{
 "cells": [
  {
   "cell_type": "markdown",
   "metadata": {},
   "source": [
    "# Nodejs-MongoDB Server\n",
    "MongoDB 는 DB-collections-document 구조를 가짐.  \n",
    "## 1. DB : BOTTOMUP_FAC\n",
    "### A. Collection : Place\n",
    "#### Documents(Ver 1)\n",
    "{ X:(float), Y:(float), WiFiList(wifiname:db)(dictionary), BuildingType:(string), BuildingName:(string), BuildingID:(int, \\_\\_id)(문서,후기를 찾을 때 필요)(index) }\n",
    "\n",
    "### B. Collection : Document\n",
    "#### Documents(Ver 1)\n",
    "{ BuildingID:(int), Article:(string), ArticleID:(int) }\n",
    "\n",
    "### C. Collection : Review_\\[BuildingID\\]\n",
    "#### Documents(Ver 1)\n",
    "{ BuildingID:(int), Article:(string), ArticleID:(int) }\n",
    "\n",
    "### D. log\n",
    "#### Documents(Ver 1)\n",
    "{ ArticleID:(int), timestamp:(string), Deleted:{startline:(int), endline:(int), deletedText:(int)}, Added:{startline:(int), endline:(int), addedText:(int)} }\n",
    "\n",
    "\n",
    "## 2. DB : BOTTOMUP_USER\n",
    "### A. Collection : USER\n",
    "#### Documents(Ver 1)\n",
    "{ UserID:(int), UserName:(string)(DeviceID), Password:(OPTION)(string) }\n",
    "### B. Permission_\\[UserID\\]\n",
    "#### Documents(Ver 1)\n",
    "{ UserID:(int), BuildingID:(int), StayedTime:(int), VisitedTimes:(int), Permission:(int) }"
   ]
  },
  {
   "cell_type": "code",
   "execution_count": null,
   "metadata": {},
   "outputs": [],
   "source": []
  }
 ],
 "metadata": {
  "kernelspec": {
   "display_name": "Javascript (Node.js)",
   "language": "javascript",
   "name": "javascript"
  },
  "language_info": {
   "file_extension": ".js",
   "mimetype": "application/javascript",
   "name": "javascript",
   "version": "6.12.0"
  }
 },
 "nbformat": 4,
 "nbformat_minor": 2
}
