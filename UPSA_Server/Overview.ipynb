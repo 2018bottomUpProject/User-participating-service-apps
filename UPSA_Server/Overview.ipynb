{
 "cells": [
  {
   "cell_type": "markdown",
   "metadata": {},
   "source": [
    "# Nodejs-MongoDB Server\n",
    "MongoDB 는 DB-collections-document 구조를 가짐.  \n",
    "## 1. DB : [BOTTOMUP_PLACE](#1.BOTTOMUP_PLACE)\n",
    "### A. Collection : Location\n",
    "#### Documents(Ver 1)\n",
    "{ X:(float), Y:(float), WiFiDic(wifiname:db)(dictionary), BuildingType:(string), BuildingName:(string), BuildingId:(int, \\_\\_id)(문서,후기를 찾을 때 필요)(index) }\n",
    "\n",
    "### B. Collection : Document\n",
    "#### Documents(Ver 1)\n",
    "{ BuildingId:(int), Article:(string), ArticleId:(int) }\n",
    "\n",
    "### C. Collection : Review_\\[BuildingID\\]\n",
    "#### Documents(Ver 1)\n",
    "{ BuildingId:(int), Article:(string), ArticleId:(int) }\n",
    "\n",
    "### D. Log\n",
    "#### Documents(Ver 1)\n",
    "{ ArticleId:(int), timestamp:(string), Deleted:{startline:(int), endline:(int), deletedText:(int)}, Added:{startline:(int), endline:(int), addedText:(int)} }\n",

    "\n",
    "\n",
    "## 2. DB : [BOTTOMUP_USER](#1.BOTTOMUP_USER)\n",
    "### A. Collection : USER\n",
    "#### Documents(Ver 1)\n",
    "{ UserId:(int), UserName:(string)(DeviceId), Password:(OPTION)(string) }\n",
    "### B. Permission_\\[UserID\\]\n",
    "#### Documents(Ver 1)\n",
    "{ UserId:(int), BuildingId:(int), StayedTime:(int), VisitedTimes:(int), Permission:(int) }"
   ]
  },
  {
   "cell_type": "markdown",
   "metadata": {},
   "source": [
    "# DB 관련 모듈 구성\n",
    "위의 구조를 가진 DB에 접근하기 위해서는 다음과 같은 내용이 필요하다.   \n",
    "\n",
    " ```javascript\n",
    "\n",
    "const url = 'mongodb://newscrap.iptime.org:27017';\n",
    "\n",
    "//DB_Place\n",
    "const PlaceDBName = \"BOTTOMUP_PLACE\";\n",
    "\n",
    "const LocationName = \"Location\";\n",
    "const DocumentName = \"Document\";\n",
    "const ReviewPrefix = \"Review_\";\n",
    "const LogName = \"Log\";\n",
    "\n",
    "//DB_User\n",
    "const UserDBName = \"BOTTOMUP_USER\";\n",
    "\n",
    "const UserName = \"User\";\n",
    "const PermissionPrefix = \"Permission_\";\n",
    "```\n",
    "이 때 만약 MongoDB에서 제공하는 각각의 기능마다, DB-Collection마다 하나씩 함수를 만들면,  \n",
    "> 4 * 6 = 24\n",
    "\n",
    "개의 함수를 만들어야 한다. 따라서 위의 문자열 중 Collection에 해당하는 내용은 module의 prototype으로 지정하고,  \n",
    "DBConnector 모듈에서는 단지 DB 객체의 open 및 저장, 삭제를 담당하기로 한다."
   ]
  },
  {
   "cell_type": "markdown",
   "metadata": {},
   "source": [
    "# 정적 변수 및 함수 선언"
   ]
  },
  {
   "cell_type": "code",
   "execution_count": 1,
   "metadata": {},
   "outputs": [
    {
     "data": {
      "text/plain": [
       "undefined"
      ]
     },
     "execution_count": 1,
     "metadata": {},
     "output_type": "execute_result"
    }
   ],
   "source": [
    "const MongoClient = require('mongodb').MongoClient;\n",
    "const assert = require('assert');\n",
    "\n",
    "const url = 'mongodb://localhost:27017';\n",
    "\n",
    "const PlaceDBName = \"BOTTOMUP_PLACE\";\n",
    "const UserDBName = \"BOTTOMUP_USER\";\n"
   ]
  },
  {
   "cell_type": "code",
   "execution_count": 4,
   "metadata": {
    "collapsed": true
   },
   "outputs": [
    {
     "ename": "SyntaxError",
     "evalue": "Unexpected token (",
     "output_type": "error",
     "traceback": [
      "evalmachine.<anonymous>:5",
      "(async ()=> {",
      "       ^",
      "",
      "SyntaxError: Unexpected token (",
      "    at createScript (vm.js:56:10)",
      "    at Object.runInThisContext (vm.js:97:10)",
      "    at run ([eval]:1002:15)",
      "    at onRunRequest ([eval]:829:18)",
      "    at onMessage ([eval]:789:13)",
      "    at emitTwo (events.js:106:13)",
      "    at process.emit (events.js:191:7)",
      "    at process.nextTick (internal/child_process.js:787:12)",
      "    at _combinedTickCallback (internal/process/next_tick.js:73:7)",
      "    at process._tickCallback (internal/process/next_tick.js:104:9)"
     ]
    }
   ],
   "source": [
    "\n",
    "let client = null;\n",
    "let PlaceDB = null;\n",
    "let UserDB = null;\n",
    "(async ()=> {\n",
    "  try {\n",
    "    // Use connect method to connect to the Server\n",
    "    client = await MongoClient.connect(url);\n",
    "\n",
    "    const PlaceDB = client.db(PlaceDBName);\n",
    "    const UserDB = client.db(UserDBName);\n",
    "  } catch (err) {\n",
    "    console.log(err.stack);\n",
    "  }\n",
    "\n",
    "  if (client) {\n",
    "    client.close();\n",
    "  }\n",
    "})();"
   ]
  },
  {
   "cell_type": "code",
   "execution_count": null,
   "metadata": {},
   "outputs": [],
   "source": [
    "const insert = function(db, collection, insertlist, callback) {//[{key:value, key:value...}, {...}, {...}...]\n",
    "  const collection = db.collection(collection);\n",
    "  // Insert some documents\n",
    "  collection.insertMany(insertlist, function(err, result) {\n",
    "    assert.equal(err, null);\n",
    "    assert.equal(insertlist.length, result.result.n);\n",
    "    assert.equal(insertlist.length, result.ops.length);\n",
    "    console.log(\"Inserted 3 documents into the collection\");\n",
    "    callback(result);\n",
    "  });\n",
    "}"
   ]
  },
  {
   "cell_type": "code",
   "execution_count": null,
   "metadata": {},
   "outputs": [],
   "source": [
    "const update = function(db, collection, find, update, callback) {//find : {key:value}(찾는 대상), update : {}\n",
    "  const collection = db.collection('Location');\n",
    "  // Update document where a is 2, set b equal to 1\n",
    "  collection.updateOne(find, , { $set: { b : 1 } }, function(err, result) {\n",
    "    assert.equal(err, null);\n",
    "    assert.equal(1, result.result.n);\n",
    "    console.log(\"Updated the document with the field a equal to 2\");\n",
    "    callback(result);\n",
    "  });  \n",
    "}"
   ]
  },
  {
   "cell_type": "markdown",
   "metadata": {},
   "source": [
    "# 1.BOTTOMUP_PLACE"
   ]
  },
  {
   "cell_type": "code",
   "execution_count": 2,
   "metadata": {},
   "outputs": [
    {
     "data": {
      "text/plain": [
       "undefined"
      ]
     },
     "execution_count": 2,
     "metadata": {},
     "output_type": "execute_result"
    }
   ],
   "source": [
    "// Database Name\n",
    "const facDB = 'BOTTOMUP_PLACE';"
   ]
  },
  {
   "cell_type": "code",
   "execution_count": 3,
   "metadata": {},
   "outputs": [
    {
     "data": {
      "text/plain": [
       "undefined"
      ]
     },
     "execution_count": 3,
     "metadata": {},
     "output_type": "execute_result"
    }
   ],
   "source": [
    "var insert = function(db, collection, insertlist, callback) {//[{key:value, key:value...}, {...}, {...}...]\n",
    "  //{ X:(float), Y:(float), WiFiList(wifiname:db)(dictionary), BuildingType:(string), BuildingName:(string), BuildingID:(int, __id)(문서,후기를 찾을 때 필요)(index) }\n",
    "  // Get the documents collection\n",
    "  const collection = db.collection(collection);\n",
    "  // Insert some documents\n",
    "  collection.insertMany(insertlist, function(err, result) {\n",
    "    assert.equal(err, null);\n",
    "    assert.equal(insertlist.length, result.result.n);\n",
    "    assert.equal(insertlist.length, result.ops.length);\n",
    "    console.log(\"Inserted 3 documents into the collection\");\n",
    "    callback(result);\n",
    "  });\n",
    "}"
   ]
  },
  {
   "cell_type": "code",
   "execution_count": null,
   "metadata": {},
   "outputs": [],
   "source": []
  }
 ],
 "metadata": {
  "kernelspec": {
   "display_name": "Javascript (Node.js)",
   "language": "javascript",
   "name": "javascript"
  },
  "language_info": {
   "file_extension": ".js",
   "mimetype": "application/javascript",
   "name": "javascript",
   "version": "6.12.0"
  }
 },
 "nbformat": 4,
 "nbformat_minor": 2
}
