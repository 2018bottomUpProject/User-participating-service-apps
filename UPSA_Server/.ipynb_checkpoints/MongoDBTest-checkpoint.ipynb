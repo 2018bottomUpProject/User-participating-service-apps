{
 "cells": [
  {
   "cell_type": "markdown",
   "metadata": {},
   "source": [
    "# MongoDB-Nodejs Practice\n",
    "- [MongoDB Nodejs API](http://mongodb.github.io/node-mongodb-native/3.1/api/index.html)  \n",
    "- [MongoDB Nodejs QuickStart](https://github.com/mongodb/node-mongodb-native)  \n",
    "url        : `mongodb://localhost:27017`  \n",
    "db         : `myproject`  \n",
    "collection : `documents`  \n",
    "\n",
    "### Memo\n",
    "url은 몽고디비 서버 주소,  \n",
    "db는 데이타베이스 한 개,  \n",
    "collection은 테이블이라고 생각하면 된다.  \n",
    "document는 열(row)이고,  \n",
    "이 데이터베이스에서 행(column) 개념은 없다고 봐도 무방하다.  \n"
   ]
  },
  {
   "cell_type": "code",
   "execution_count": 1,
   "metadata": {},
   "outputs": [
    {
     "data": {
      "text/plain": [
       "undefined"
      ]
     },
     "execution_count": 1,
     "metadata": {},
     "output_type": "execute_result"
    }
   ],
   "source": [
    "const MongoClient = require('mongodb').MongoClient;\n",
    "const assert = require('assert');\n",
    "\n",
    "// Connection URL\n",
    "const url = 'mongodb://localhost:27017';\n",
    "\n",
    "// Database Name\n",
    "const dbName = 'myproject';"
   ]
  },
  {
   "cell_type": "code",
   "execution_count": 99,
   "metadata": {},
   "outputs": [
    {
     "data": {
      "text/plain": [
       "undefined"
      ]
     },
     "execution_count": 99,
     "metadata": {},
     "output_type": "execute_result"
    }
   ],
   "source": [
    "var insertDocuments = function(db, insertlist, callback) {//[{key:value, key:value...}, {...}, {...}...]\n",
    "  // Get the documents collection\n",
    "  const collection = db.collection('documents');\n",
    "  // Insert some documents\n",
    "  collection.insertMany(insertlist, function(err, result) {\n",
    "    assert.equal(err, null);\n",
    "    assert.equal(insertlist.length, result.result.n);\n",
    "    assert.equal(insertlist.length, result.ops.length);\n",
    "    console.log(\"Inserted 3 documents into the collection\");\n",
    "    callback(result);\n",
    "  });\n",
    "}"
   ]
  },
  {
   "cell_type": "code",
   "execution_count": 3,
   "metadata": {},
   "outputs": [
    {
     "data": {
      "text/plain": [
       "undefined"
      ]
     },
     "execution_count": 3,
     "metadata": {},
     "output_type": "execute_result"
    }
   ],
   "source": [
    "var findDocuments = function(db, filter, callback) {//{key:value, ...}\n",
    "  // Get the documents collection\n",
    "  const collection = db.collection('documents');\n",
    "  // Find some documents\n",
    "  collection.find(filter).toArray(function(err, docs) {\n",
    "    assert.equal(err, null);\n",
    "    console.log(\"Found the following records\");\n",
    "    console.log(docs);\n",
    "    callback(docs);\n",
    "  });\n",
    "}"
   ]
  },
  {
   "cell_type": "code",
   "execution_count": 375,
   "metadata": {},
   "outputs": [
    {
     "data": {
      "text/plain": [
       "undefined"
      ]
     },
     "execution_count": 375,
     "metadata": {},
     "output_type": "execute_result"
    }
   ],
   "source": [
    "var removeDocument = function(db, filter, callback) {\n",
    "  // Get the documents collection\n",
    "  const collection = db.collection('documents');\n",
    "  // Delete document where a is 3\n",
    "  collection.deleteMany(filter, function(err, result) {\n",
    "    assert.equal(err, null);\n",
    "    console.log(\"Removed the document with the field a equal to \", filter, \"deleted \", result.result.n);\n",
    "    callback(result);\n",
    "  });    \n",
    "}"
   ]
  },
  {
   "cell_type": "code",
   "execution_count": 379,
   "metadata": {},
   "outputs": [
    {
     "data": {
      "text/plain": [
       "undefined"
      ]
     },
     "execution_count": 379,
     "metadata": {},
     "output_type": "execute_result"
    }
   ],
   "source": [
    "var updateDocument = function(db, callback) {//인자 방식으로 수정 필요\n",
    "  // Get the documents collection\n",
    "  const collection = db.collection('documents');\n",
    "  // Update document where a is 2, set b equal to 1\n",
    "  collection.updateOne({ a : 2 }\n",
    "    , { $set: { b : 1 } }, function(err, result) {\n",
    "    assert.equal(err, null);\n",
    "    assert.equal(1, result.result.n);\n",
    "    console.log(\"Updated the document with the field a equal to 2\");\n",
    "    callback(result);\n",
    "  });  \n",
    "}"
   ]
  },
  {
   "cell_type": "markdown",
   "metadata": {},
   "source": [
    "### Memo\n",
    "아래 코드는 인자로 넘겨준 배열 안에 담긴 딕셔너리들을 document로 DB에 삽입한다.  \n",
    "위에 정의된 함수들을 사용하므로 함수 내용을 살펴보며 공부하기."
   ]
  },
  {
   "cell_type": "code",
   "execution_count": 376,
   "metadata": {
    "scrolled": false
   },
   "outputs": [
    {
     "data": {
      "text/plain": [
       "undefined"
      ]
     },
     "execution_count": 376,
     "metadata": {},
     "output_type": "execute_result"
    },
    {
     "name": "stdout",
     "output_type": "stream",
     "text": [
      "Connected correctly to server\n",
      "Inserted 3 documents into the collection\n",
      "Found the following records\n",
      "[ { _id: 5b46fb0c78b18436197654da, a: 1 },\n",
      "  { _id: 5b46fb0c78b18436197654db, a: 2 },\n",
      "  { _id: 5b46fb0c78b18436197654dc, a: 3 } ]\n"
     ]
    }
   ],
   "source": [
    "// Use connect method to connect to the server\n",
    "MongoClient.connect(url, function(err, client) {\n",
    "  assert.equal(null, err);\n",
    "  console.log(\"Connected correctly to server\");\n",
    "\n",
    "  const db = client.db(dbName);\n",
    "\n",
    "  insertDocuments(db,[{'a':1},{'a':2},{'a':3}], function() {\n",
    "    findDocuments(db,{}, function() {\n",
    "      client.close();\n",
    "    });\n",
    "  });\n",
    "});"
   ]
  },
  {
   "cell_type": "markdown",
   "metadata": {},
   "source": [
    "### Memo\n",
    "아래 코드는 조건에 맞는 도큐멘트를 삭제하는 코드이다.  \n",
    "{}를 인자로 주면 모든 도큐멘트를 삭제하며,  \n",
    "{a:1}을 인자로 주면 키 a의 값이 1인 도큐멘트만 삭제한다.  "
   ]
  },
  {
   "cell_type": "code",
   "execution_count": 377,
   "metadata": {
    "scrolled": false
   },
   "outputs": [
    {
     "data": {
      "text/plain": [
       "undefined"
      ]
     },
     "execution_count": 377,
     "metadata": {},
     "output_type": "execute_result"
    },
    {
     "name": "stdout",
     "output_type": "stream",
     "text": [
      "Connected successfully to server\n",
      "Removed the document with the field a equal to  {} deleted  3\n",
      "Found the following records\n",
      "[]\n"
     ]
    }
   ],
   "source": [
    "\n",
    "// Use connect method to connect to the server\n",
    "MongoClient.connect(url, function(err, client) {\n",
    "  assert.equal(null, err);\n",
    "  console.log(\"Connected successfully to server\");\n",
    "\n",
    "  const db = client.db(dbName);\n",
    "\n",
    "      removeDocument(db,{}, function() {\n",
    "    findDocuments(db,{}, function() {\n",
    "      client.close();\n",
    "    });\n",
    "      });\n",
    "});"
   ]
  },
  {
   "cell_type": "code",
   "execution_count": 378,
   "metadata": {},
   "outputs": [
    {
     "data": {
      "text/plain": [
       "undefined"
      ]
     },
     "execution_count": 378,
     "metadata": {},
     "output_type": "execute_result"
    },
    {
     "name": "stdout",
     "output_type": "stream",
     "text": [
      "Connected successfully to server\n",
      "[]\n"
     ]
    }
   ],
   "source": [
    "\n",
    "// Use connect method to connect to the server\n",
    "MongoClient.connect(url, function(err, client) {\n",
    "  assert.equal(null, err);\n",
    "  console.log(\"Connected successfully to server\");\n",
    "\n",
    "  var db = client.db(dbName);\n",
    "\n",
    "  var collection = db.collection('documents');\n",
    "    collection.dropIndexes(1, function(){\n",
    "        collection.find({}).toArray(function(err,docs){\n",
    "            \n",
    "            console.log(docs);\n",
    "        });\n",
    "    });\n",
    "});"
   ]
  },
  {
   "cell_type": "code",
   "execution_count": null,
   "metadata": {},
   "outputs": [],
   "source": []
  }
 ],
 "metadata": {
  "kernelspec": {
   "display_name": "Javascript (Node.js)",
   "language": "javascript",
   "name": "javascript"
  },
  "language_info": {
   "file_extension": ".js",
   "mimetype": "application/javascript",
   "name": "javascript",
   "version": "6.12.0"
  }
 },
 "nbformat": 4,
 "nbformat_minor": 2
}
